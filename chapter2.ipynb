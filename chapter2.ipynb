{
 "cells": [
  {
   "cell_type": "code",
   "execution_count": null,
   "metadata": {},
   "outputs": [],
   "source": [
    "#chapter 2\n",
    "#example of constants\n",
    "\n",
    "print(123) #int\n",
    "\n",
    "print(98.6) #float\n",
    "\n",
    "print('Hello world') #string\n"
   ]
  },
  {
   "cell_type": "code",
   "execution_count": null,
   "metadata": {},
   "outputs": [],
   "source": [
    "#variables\n",
    "\n",
    "x = 12.2\n",
    "y = 14\n",
    "\n",
    "z = x+y\n",
    "print(z)\n",
    "\n",
    "#x,y,z are variables"
   ]
  },
  {
   "cell_type": "code",
   "execution_count": null,
   "metadata": {},
   "outputs": [],
   "source": [
    "#What are these bits of code doing example(1)?\n",
    "\n",
    "x1q3z9ocd = 35.0 \n",
    "x1q3z9afd = 12.50\n",
    "x1q3p9afd = x1q3z9ocd * x1q3z9afd\n",
    "print(x1q3p9afd"
   ]
  },
  {
   "cell_type": "code",
   "execution_count": null,
   "metadata": {},
   "outputs": [],
   "source": [
    "#What are these bits of code doing example(2)?\n",
    "\n",
    "a = 35.0 \n",
    "b = 12.50 \n",
    "c = a * b \n",
    "print(c)"
   ]
  },
  {
   "cell_type": "code",
   "execution_count": null,
   "metadata": {},
   "outputs": [],
   "source": [
    "#What are these bits of code doing example(3)?\n",
    "\n",
    "hours = 35.0 \n",
    "rate = 12.50 \n",
    "pay = hours * rate \n",
    "print(pay)"
   ]
  },
  {
   "cell_type": "code",
   "execution_count": null,
   "metadata": {},
   "outputs": [],
   "source": [
    "#sentences or lines\n",
    "\n",
    "x = 2 #Assignment statement, where x is variable, = is operator, 2 is constant.\n",
    "    \n",
    "x = x + 2 #Assignment with expression, where x is variable, =,+ are operator, 2 is constant and x+2 is expression\n",
    "\n",
    "print(x) #Print statement, where print() is a function"
   ]
  },
  {
   "cell_type": "code",
   "execution_count": null,
   "metadata": {},
   "outputs": [],
   "source": [
    "#assignment statement\n",
    "x = 3.9 * x * ( 1 - x )\n",
    "\n",
    "print(x)"
   ]
  },
  {
   "cell_type": "code",
   "execution_count": null,
   "metadata": {},
   "outputs": [],
   "source": [
    "#numeric expressions\n",
    "#addition\n",
    "\n",
    "xx = 2\n",
    "xx = xx + 2\n",
    "print(xx)"
   ]
  },
  {
   "cell_type": "code",
   "execution_count": null,
   "metadata": {},
   "outputs": [],
   "source": [
    "#numeric expressions\n",
    "#remainder\n",
    "\n",
    "jj = 23\n",
    "kk = jj % 5\n",
    "print(kk)"
   ]
  },
  {
   "cell_type": "code",
   "execution_count": null,
   "metadata": {},
   "outputs": [],
   "source": [
    "#numeric expressions\n",
    "#multiplication\n",
    "\n",
    "yy = 440 * 12\n",
    "print(yy)\n",
    "\n",
    "print(4 ** 3)"
   ]
  },
  {
   "cell_type": "code",
   "execution_count": null,
   "metadata": {},
   "outputs": [],
   "source": [
    "#numeric expressions\n",
    "#division\n",
    "\n",
    "zz = yy / 1000\n",
    "print(zz)"
   ]
  },
  {
   "cell_type": "code",
   "execution_count": null,
   "metadata": {},
   "outputs": [],
   "source": [
    "#operator precedence\n",
    "\n",
    "#example1\n",
    "x= 1 + 2 * 3 - 4 / 5 ** 6 \n",
    "print(x)\n",
    "\n",
    "#example2\n",
    "x = 1 + 2 ** 3 / 4 * 5\n",
    "print(x)"
   ]
  },
  {
   "cell_type": "code",
   "execution_count": null,
   "metadata": {},
   "outputs": [],
   "source": [
    "#addition of numbers\n",
    "ddd = 1 + 4\n",
    "print(ddd)\n",
    "\n",
    "#concatenate strings\n",
    "eee = 'hello ' + 'there'\n",
    "print(eee)"
   ]
  },
  {
   "cell_type": "code",
   "execution_count": null,
   "metadata": {},
   "outputs": [],
   "source": [
    "#type\n",
    "eee = 'hello ' + 'there'\n",
    "eee = eee + 1\n",
    "\n",
    "#cannot “add 1” to a string"
   ]
  },
  {
   "cell_type": "code",
   "execution_count": null,
   "metadata": {},
   "outputs": [],
   "source": [
    "#several type of numbers\n",
    "\n",
    "xx = 1\n",
    "type (xx) #int\n",
    "\n",
    "temp = 98.6\n",
    "type(temp) #float\n",
    "\n",
    "type(1) #int\n",
    "\n",
    "type(1.0) #float\n"
   ]
  },
  {
   "cell_type": "code",
   "execution_count": null,
   "metadata": {},
   "outputs": [],
   "source": [
    "#type conversions\n",
    "\n",
    "print(float(99) + 100)\n",
    "\n",
    "i = 42\n",
    "type(i)\n",
    "f = float(i) #the integer is implicitly converted to a float\n",
    "print(f)\n",
    "\n",
    "type(f)"
   ]
  },
  {
   "cell_type": "code",
   "execution_count": null,
   "metadata": {},
   "outputs": [],
   "source": [
    "#Integer division produces a floating point result\n",
    "\n",
    "print(10 / 2)\n",
    "\n",
    "print(9 / 2)\n",
    "\n",
    "print(99 / 100)\n",
    "\n",
    "print(10.0 / 2.0)\n",
    "\n",
    "print(99.0 / 100.0)"
   ]
  },
  {
   "cell_type": "code",
   "execution_count": null,
   "metadata": {},
   "outputs": [],
   "source": [
    "#strings conversion\n",
    "\n",
    "sval = '123'\n",
    "type(sval)\n",
    "print(sval + 1) #cannot add 1 to a string"
   ]
  },
  {
   "cell_type": "code",
   "execution_count": null,
   "metadata": {},
   "outputs": [],
   "source": [
    " ival = int(sval)\n",
    "type(ival)\n",
    "\n",
    "print(ival + 1)\n",
    "124\n",
    "nsv = 'hello bob'\n",
    "niv = int(nsv)"
   ]
  },
  {
   "cell_type": "code",
   "execution_count": null,
   "metadata": {},
   "outputs": [],
   "source": [
    "#input from the user\n",
    "\n",
    "nam = input('Who are you? ')\n",
    "print('Welcome', nam)"
   ]
  },
  {
   "cell_type": "code",
   "execution_count": null,
   "metadata": {},
   "outputs": [],
   "source": [
    "#converting user input\n",
    "\n",
    "inp = input('Europe floor?')\n",
    "usf = int(inp) + 1\n",
    "print('US floor', usf)"
   ]
  },
  {
   "cell_type": "code",
   "execution_count": null,
   "metadata": {},
   "outputs": [],
   "source": [
    "# Get the name of the file and open it\n",
    "name = input('Enter file:')\n",
    "handle = open(name, 'r')"
   ]
  },
  {
   "cell_type": "code",
   "execution_count": null,
   "metadata": {},
   "outputs": [],
   "source": [
    "# Count word frequency\n",
    "counts = dict()\n",
    "for line in handle:\n",
    "    words = line.split()\n",
    "    for word in words:\n",
    "        counts[word] = counts.get(word,0) + 1"
   ]
  },
  {
   "cell_type": "code",
   "execution_count": null,
   "metadata": {},
   "outputs": [],
   "source": [
    "# Find the most common word\n",
    "bigcount = None\n",
    "bigword = None\n",
    "for word,count in counts.items():\n",
    "    if bigcount is None or count > bigcount:\n",
    "        bigword = word\n",
    "        bigcount = count"
   ]
  },
  {
   "cell_type": "code",
   "execution_count": null,
   "metadata": {},
   "outputs": [],
   "source": [
    "# All done\n",
    "print(bigword, bigcount)\n"
   ]
  },
  {
   "cell_type": "code",
   "execution_count": null,
   "metadata": {},
   "outputs": [],
   "source": [
    "#exercise\n",
    "#Write a program to prompt the user for hours and rate per hour to compute gross pay\n",
    "#Enter Hours: 35, Enter Rate: 2.75, Pay: 96.25\n",
    "\n",
    "hours = 35\n",
    "rate = 2.75\n",
    "\n",
    "gross_pay = hours * rate\n",
    "print(gross_pay)"
   ]
  }
 ],
 "metadata": {
  "language_info": {
   "name": "plaintext"
  },
  "orig_nbformat": 4
 },
 "nbformat": 4,
 "nbformat_minor": 2
}
